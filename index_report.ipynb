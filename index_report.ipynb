{
 "cells": [
  {
   "cell_type": "code",
   "execution_count": 1,
   "metadata": {},
   "outputs": [
    {
     "data": {
      "text/html": [
       "<style>\n",
       ".cell-output-ipywidget-background {\n",
       "    background-color: transparent !important;\n",
       "}\n",
       ":root {\n",
       "    --jp-widgets-color: var(--vscode-editor-foreground);\n",
       "    --jp-widgets-font-size: var(--vscode-editor-font-size);\n",
       "}  \n",
       "</style>\n"
      ],
      "text/plain": [
       "<IPython.core.display.HTML object>"
      ]
     },
     "metadata": {},
     "output_type": "display_data"
    }
   ],
   "source": [
    "%%html\n",
    "<style>\n",
    ".cell-output-ipywidget-background {\n",
    "    background-color: transparent !important;\n",
    "}\n",
    ":root {\n",
    "    --jp-widgets-color: var(--vscode-editor-foreground);\n",
    "    --jp-widgets-font-size: var(--vscode-editor-font-size);\n",
    "}  \n",
    "</style>"
   ]
  },
  {
   "cell_type": "code",
   "execution_count": 2,
   "metadata": {},
   "outputs": [],
   "source": [
    "# Libraries\n",
    "%load_ext autoreload\n",
    "%autoreload 2\n",
    "import index_toolkit as tk\n",
    "import pandas as pd\n",
    "import yfinance as yf"
   ]
  },
  {
   "cell_type": "code",
   "execution_count": 3,
   "metadata": {},
   "outputs": [],
   "source": [
    "# Inputs\n",
    "df_market_input = '^FCHI'\n",
    "riskfree_input = '^TNX'\n",
    "df_allocation = pd.read_csv('index_allocation.csv', index_col = 'Ticker')"
   ]
  },
  {
   "cell_type": "code",
   "execution_count": 5,
   "metadata": {},
   "outputs": [],
   "source": [
    "# Fetching df_market data and risk-free rate\n",
    "df_market = yf.Ticker(df_market_input).history('max')['Close']\n",
    "df_market.name = df_market_input\n",
    "df_market.index = df_market.index.tz_localize(None)\n",
    "riskfree = yf.Ticker(riskfree_input).history('1y')['Close'].iloc[-1] / 100\n",
    "\n",
    "# Fetching and reating a DataFrame to store historical prices for each asset\n",
    "df_history = pd.DataFrame()\n",
    "for ticker in df_allocation.index:\n",
    "    history = yf.Ticker(ticker).history('max')['Close']\n",
    "    history.name = ticker\n",
    "    df_history = pd.concat([df_history, history], axis=1)\n",
    "df_history.index = pd.to_datetime(df_history.index)\n",
    "df_history = df_history.resample('B').last().ffill()\n",
    "df_history.index = df_history.index.tz_localize(None)"
   ]
  },
  {
   "cell_type": "code",
   "execution_count": 12,
   "metadata": {},
   "outputs": [
    {
     "name": "stdout",
     "output_type": "stream",
     "text": [
      "               Price   Share  Valorisation Allocation Account   Type \n",
      "Ticker                                                               \n",
      "ACA.PA          14.3   815.0    11,621.9     27.47%      PEE   STOCKS\n",
      "WPEA.PA          5.2 1,750.0     9,097.9     21.51%      PEA      ETF\n",
      "UST.PA          70.4    60.0     4,222.3      9.98%      CTO      ETF\n",
      "AEME.PA         64.1    35.0     2,242.4      5.30%      CTO      ETF\n",
      "MC.PA          603.6     4.0     2,414.4      5.71%      PEA   STOCKS\n",
      "SAN.PA         103.3    15.0     1,549.8      3.66%      PEA   STOCKS\n",
      "STLAP.PA        13.6   100.0     1,357.4      3.21%      PEA   STOCKS\n",
      "AIR.PA         129.4    10.0     1,294.2      3.06%      PEA   STOCKS\n",
      "TTE.PA          61.2    20.0     1,224.4      2.89%      PEA   STOCKS\n",
      "DG.PA          109.6    10.0     1,096.0      2.59%      PEA   STOCKS\n",
      "AI.PA          169.5    10.0     1,695.2      4.01%      PEA   STOCKS\n",
      "SU.PA          227.1     5.0     1,135.7      2.68%      PEA   STOCKS\n",
      "0P00018AOF.F   183.6    15.5     2,845.3      6.73%      PEE      ETF\n",
      "0P00008W4R.F 1,269.7     0.4       507.9      1.20%      PEE      ETF\n"
     ]
    }
   ],
   "source": [
    "tk.index_table(\n",
    "    index=df_allocation,\n",
    "    history=df_history,\n",
    ")"
   ]
  },
  {
   "cell_type": "code",
   "execution_count": 14,
   "metadata": {},
   "outputs": [
    {
     "data": {
      "application/vnd.jupyter.widget-view+json": {
       "model_id": "512536bb4c5c44cca3eec428a4e8ee52",
       "version_major": 2,
       "version_minor": 0
      },
      "text/plain": [
       "interactive(children=(Select(description='freq', index=1, options=('D', 'B', 'W', 'M'), value='B'), Select(des…"
      ]
     },
     "metadata": {},
     "output_type": "display_data"
    }
   ],
   "source": [
    "# Statistiques du portefeuille par positions\n",
    "tk.stats_table(\n",
    "    history=df_history, \n",
    "    market=df_market, \n",
    "    riskfree=riskfree, \n",
    "    index=df_allocation, \n",
    ").show()"
   ]
  },
  {
   "cell_type": "code",
   "execution_count": 22,
   "metadata": {},
   "outputs": [
    {
     "data": {
      "application/vnd.jupyter.widget-view+json": {
       "model_id": "aa48e20b410d4ddcb36d1f499a62a597",
       "version_major": 2,
       "version_minor": 0
      },
      "text/plain": [
       "interactive(children=(Select(description='freq', index=1, options=('D', 'B', 'W', 'M'), value='B'), Select(des…"
      ]
     },
     "metadata": {},
     "output_type": "display_data"
    }
   ],
   "source": [
    "tk.chart_comparison(\n",
    "    history=df_history, \n",
    "    index=df_allocation\n",
    ").show()"
   ]
  },
  {
   "cell_type": "code",
   "execution_count": null,
   "metadata": {},
   "outputs": [],
   "source": []
  }
 ],
 "metadata": {
  "kernelspec": {
   "display_name": "Python 3",
   "language": "python",
   "name": "python3"
  },
  "language_info": {
   "codemirror_mode": {
    "name": "ipython",
    "version": 3
   },
   "file_extension": ".py",
   "mimetype": "text/x-python",
   "name": "python",
   "nbconvert_exporter": "python",
   "pygments_lexer": "ipython3",
   "version": "3.12.3"
  }
 },
 "nbformat": 4,
 "nbformat_minor": 2
}
