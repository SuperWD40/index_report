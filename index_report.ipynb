{
 "cells": [
  {
   "cell_type": "code",
   "execution_count": 1,
   "metadata": {},
   "outputs": [
    {
     "data": {
      "text/html": [
       "<style>\n",
       ".cell-output-ipywidget-background {\n",
       "    background-color: transparent !important;\n",
       "}\n",
       ":root {\n",
       "    --jp-widgets-color: var(--vscode-editor-foreground);\n",
       "    --jp-widgets-font-size: var(--vscode-editor-font-size);\n",
       "}  \n",
       "</style>\n"
      ],
      "text/plain": [
       "<IPython.core.display.HTML object>"
      ]
     },
     "metadata": {},
     "output_type": "display_data"
    }
   ],
   "source": [
    "%%html\n",
    "<style>\n",
    ".cell-output-ipywidget-background {\n",
    "    background-color: transparent !important;\n",
    "}\n",
    ":root {\n",
    "    --jp-widgets-color: var(--vscode-editor-foreground);\n",
    "    --jp-widgets-font-size: var(--vscode-editor-font-size);\n",
    "}  \n",
    "</style>"
   ]
  },
  {
   "cell_type": "code",
   "execution_count": 2,
   "metadata": {},
   "outputs": [],
   "source": [
    "# Libraries\n",
    "%load_ext autoreload\n",
    "%autoreload 2\n",
    "import index_toolkit as tk\n",
    "import pandas as pd\n",
    "import yfinance as yf"
   ]
  },
  {
   "cell_type": "code",
   "execution_count": 3,
   "metadata": {},
   "outputs": [],
   "source": [
    "# Inputs\n",
    "date_input = '13/09/2024'\n",
    "df_market_input = '^FCHI'\n",
    "riskfree_input = '^TNX'\n",
    "df_allocation = pd.read_csv('index_allocation.csv', index_col = 'Ticker')"
   ]
  },
  {
   "cell_type": "code",
   "execution_count": 4,
   "metadata": {},
   "outputs": [],
   "source": [
    "# Fetching df_market data and risk-free rate\n",
    "df_market = yf.Ticker(df_market_input).history('max')['Close']\n",
    "df_market.name = df_market_input\n",
    "df_market.index = df_market.index.tz_localize(None)\n",
    "riskfree = yf.Ticker(riskfree_input).history('1y')['Close'].iloc[-1] / 100\n",
    "\n",
    "# Fetching and reating a DataFrame to store historical prices for each asset\n",
    "df_history = pd.DataFrame()\n",
    "for ticker in df_allocation.index:\n",
    "    history = yf.Ticker(ticker).history('max')['Close']\n",
    "    history.name = ticker\n",
    "    df_history = pd.concat([df_history, history], axis=1)\n",
    "df_history.index = pd.to_datetime(df_history.index)\n",
    "df_history = df_history.resample('B').last().ffill()\n",
    "df_history.index = df_history.index.tz_localize(None)"
   ]
  },
  {
   "cell_type": "markdown",
   "metadata": {},
   "source": [
    "# Calculating asset valuations and allocation\n",
    "class index_table(BaseClass):\n",
    "    def __init__(self, history, allocation, date, by=None):\n",
    "        super().__init__(date)\n",
    "        # Assigning input parameters to instance variables\n",
    "        self.history = history\n",
    "        self.date = self.get_date()\n",
    "        self.allocation = allocation\n",
    "        self.dict_by = by\n",
    "\n",
    "    def compute(self):\n",
    "        index = pd.DataFrame()\n",
    "        index.index = self.allocation.index\n",
    "        index['Price'] = self.history.loc[self.date]\n",
    "        index['Share'] = self.allocation['Share']\n",
    "        index['Valorisation'] = self.allocation['Share'] * index['Price']\n",
    "        index['Allocation'] = index['Valorisation'] / index['Valorisation'].sum()\n",
    "        index['Date'] = self.date\n",
    "        \n",
    "        if self.dict_by:\n",
    "            for by in self.dict_by:\n",
    "                index[by] = self.allocation[by]\n",
    "            for by in self.dict_by:\n",
    "                by_index = index.groupby(by)['Allocation'].transform('sum')\n",
    "                index[f'Alloc. by {by}'] = index['Allocation'] / by_index\n",
    "                \n",
    "        return index"
   ]
  },
  {
   "cell_type": "markdown",
   "metadata": {},
   "source": [
    "def group_history(self, by):\n",
    "    if by == 'All':\n",
    "        return self.history\n",
    "    elif by == 'Overall':\n",
    "        history = (self.index['Allocation'] * self.history.pct_change()).T.sum()\n",
    "        history = 100 * (history + 1).cumprod()\n",
    "        history.name = 'Overall'\n",
    "        history = pd.DataFrame(history)\n",
    "        return history\n",
    "    else:\n",
    "        #history = (self.index[f'Alloc. by {by}'] *self.history.pct_change()).T\n",
    "        return self.history\n",
    "\n",
    "def show(self):\n",
    "    display = self.compute()\n",
    "    display = display[['Price', 'Share', 'Valorisation', 'Allocation']]\n",
    "    display['Allocation'] = display['Allocation'].apply(lambda x: f\"{x * 100:.2f}%\")\n",
    "\n",
    "    with pd.option_context(\n",
    "        'display.max_rows', None,\n",
    "        'display.max_columns', None,\n",
    "        'display.float_format', '{:,.1f}'.format,\n",
    "        'display.max_colwidth', None,\n",
    "        'display.colheader_justify', 'center'\n",
    "    ):\n",
    "        print(display)"
   ]
  },
  {
   "cell_type": "code",
   "execution_count": 10,
   "metadata": {},
   "outputs": [
    {
     "data": {
      "application/vnd.jupyter.widget-view+json": {
       "model_id": "00b81dd63efc4796aa04fd86c04198ed",
       "version_major": 2,
       "version_minor": 0
      },
      "text/plain": [
       "interactive(children=(Select(description='freq', index=1, options=('D', 'B', 'W', 'M'), value='B'), Select(des…"
      ]
     },
     "metadata": {},
     "output_type": "display_data"
    }
   ],
   "source": [
    "# Statistiques du portefeuille par positions\n",
    "tk.stats_table(\n",
    "    history=df_history, \n",
    "    market=df_market, \n",
    "    riskfree=riskfree, \n",
    "    index=df_allocation, \n",
    "    date=date_input\n",
    ").show()"
   ]
  },
  {
   "cell_type": "code",
   "execution_count": 6,
   "metadata": {},
   "outputs": [
    {
     "ename": "AttributeError",
     "evalue": "'chart_comparison' object has no attribute 'get_range_keys'",
     "output_type": "error",
     "traceback": [
      "\u001b[0;31m---------------------------------------------------------------------------\u001b[0m",
      "\u001b[0;31mAttributeError\u001b[0m                            Traceback (most recent call last)",
      "Cell \u001b[0;32mIn[6], line 1\u001b[0m\n\u001b[0;32m----> 1\u001b[0m \u001b[43mtk\u001b[49m\u001b[38;5;241;43m.\u001b[39;49m\u001b[43mchart_comparison\u001b[49m\u001b[43m(\u001b[49m\n\u001b[1;32m      2\u001b[0m \u001b[43m    \u001b[49m\u001b[43mhistory\u001b[49m\u001b[38;5;241;43m=\u001b[39;49m\u001b[43mdf_history\u001b[49m\u001b[43m,\u001b[49m\u001b[43m \u001b[49m\n\u001b[1;32m      3\u001b[0m \u001b[43m    \u001b[49m\u001b[43mdate\u001b[49m\u001b[38;5;241;43m=\u001b[39;49m\u001b[43mdate_input\u001b[49m\n\u001b[1;32m      4\u001b[0m \u001b[43m)\u001b[49m\u001b[38;5;241m.\u001b[39mshow()\n",
      "File \u001b[0;32m~/Documents/Data Science/GitHub/index_report/index_toolkit.py:164\u001b[0m, in \u001b[0;36mchart_comparison.__init__\u001b[0;34m(self, history, date)\u001b[0m\n\u001b[1;32m    162\u001b[0m \u001b[38;5;28mself\u001b[39m\u001b[38;5;241m.\u001b[39mrange_dict \u001b[38;5;241m=\u001b[39m \u001b[38;5;28mself\u001b[39m\u001b[38;5;241m.\u001b[39mget_range_dict()\n\u001b[1;32m    163\u001b[0m \u001b[38;5;28mself\u001b[39m\u001b[38;5;241m.\u001b[39mfreq_dict \u001b[38;5;241m=\u001b[39m \u001b[38;5;28mself\u001b[39m\u001b[38;5;241m.\u001b[39mget_freq_dict()\n\u001b[0;32m--> 164\u001b[0m \u001b[38;5;28mself\u001b[39m\u001b[38;5;241m.\u001b[39mrange_keys \u001b[38;5;241m=\u001b[39m \u001b[38;5;28;43mself\u001b[39;49m\u001b[38;5;241;43m.\u001b[39;49m\u001b[43mget_range_keys\u001b[49m()\n\u001b[1;32m    165\u001b[0m \u001b[38;5;28mself\u001b[39m\u001b[38;5;241m.\u001b[39mfreq_keys \u001b[38;5;241m=\u001b[39m \u001b[38;5;28mself\u001b[39m\u001b[38;5;241m.\u001b[39mget_freq_keys()\n",
      "\u001b[0;31mAttributeError\u001b[0m: 'chart_comparison' object has no attribute 'get_range_keys'"
     ]
    }
   ],
   "source": [
    "tk.chart_comparison(\n",
    "    history=df_history, \n",
    "    date=date_input\n",
    ").show()"
   ]
  },
  {
   "cell_type": "code",
   "execution_count": 13,
   "metadata": {},
   "outputs": [
    {
     "data": {
      "application/vnd.jupyter.widget-view+json": {
       "model_id": "63059e7e595d434ab496bcefd9e8f213",
       "version_major": 2,
       "version_minor": 0
      },
      "text/plain": [
       "interactive(children=(Select(description='range', options=('1W', '1M', 'YTD', '1Y', '5Y', '10Y'), value='1W'),…"
      ]
     },
     "metadata": {},
     "output_type": "display_data"
    }
   ],
   "source": [
    "tk.top_n_flop(\n",
    "    history=df_history, \n",
    "    date=date_input\n",
    ").show()"
   ]
  },
  {
   "cell_type": "code",
   "execution_count": null,
   "metadata": {},
   "outputs": [],
   "source": []
  }
 ],
 "metadata": {
  "kernelspec": {
   "display_name": "Python 3",
   "language": "python",
   "name": "python3"
  },
  "language_info": {
   "codemirror_mode": {
    "name": "ipython",
    "version": 3
   },
   "file_extension": ".py",
   "mimetype": "text/x-python",
   "name": "python",
   "nbconvert_exporter": "python",
   "pygments_lexer": "ipython3",
   "version": "3.12.3"
  }
 },
 "nbformat": 4,
 "nbformat_minor": 2
}
