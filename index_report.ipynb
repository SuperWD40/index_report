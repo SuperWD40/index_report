{
 "cells": [
  {
   "cell_type": "code",
   "execution_count": 11,
   "metadata": {},
   "outputs": [
    {
     "data": {
      "text/html": [
       "<style>\n",
       ".cell-output-ipywidget-background {\n",
       "    background-color: transparent !important;\n",
       "}\n",
       ":root {\n",
       "    --jp-widgets-color: var(--vscode-editor-foreground);\n",
       "    --jp-widgets-font-size: var(--vscode-editor-font-size);\n",
       "}  \n",
       "</style>\n"
      ],
      "text/plain": [
       "<IPython.core.display.HTML object>"
      ]
     },
     "metadata": {},
     "output_type": "display_data"
    }
   ],
   "source": [
    "%%html\n",
    "<style>\n",
    ".cell-output-ipywidget-background {\n",
    "    background-color: transparent !important;\n",
    "}\n",
    ":root {\n",
    "    --jp-widgets-color: var(--vscode-editor-foreground);\n",
    "    --jp-widgets-font-size: var(--vscode-editor-font-size);\n",
    "}  \n",
    "</style>"
   ]
  },
  {
   "cell_type": "code",
   "execution_count": 12,
   "metadata": {},
   "outputs": [
    {
     "name": "stdout",
     "output_type": "stream",
     "text": [
      "The autoreload extension is already loaded. To reload it, use:\n",
      "  %reload_ext autoreload\n"
     ]
    }
   ],
   "source": [
    "# Libraries\n",
    "%load_ext autoreload\n",
    "%autoreload 2\n",
    "import index_toolkit as tk\n",
    "import pandas as pd\n",
    "import yfinance as yf"
   ]
  },
  {
   "cell_type": "code",
   "execution_count": 13,
   "metadata": {},
   "outputs": [],
   "source": [
    "# Inputs\n",
    "market_input = '^FCHI'   #CAC 40\n",
    "riskfree_input = '^TNX'     #10y US\n",
    "index_df = pd.read_csv('portfolio_allocation.csv', index_col = 'Ticker') #Fichier à mofidier"
   ]
  },
  {
   "cell_type": "code",
   "execution_count": 14,
   "metadata": {},
   "outputs": [],
   "source": [
    "# Fetching market_df data and risk-free rate\n",
    "market_df = yf.Ticker(market_input).history('max')['Close']\n",
    "market_df.name = market_input\n",
    "market_df.index = pd.to_datetime(market_df.index, utc=True)\n",
    "market_df = market_df.resample('B').last().ffill()\n",
    "market_df.index = market_df.index.tz_localize(None)\n",
    "riskfree = yf.Ticker(riskfree_input).history('1y')['Close'].iloc[-1] / 100\n",
    "\n",
    "# Fetching and reating a DataFrame to store historical prices for each asset\n",
    "history_df = pd.DataFrame()\n",
    "for ticker in index_df.index:\n",
    "    history = yf.Ticker(ticker).history('max')['Close']\n",
    "    history.name = ticker\n",
    "    history_df = pd.concat([history_df, history], axis=1)\n",
    "history_df.index = pd.to_datetime(history_df.index, utc=True)\n",
    "history_df = history_df.resample('B').last().ffill()\n",
    "history_df.index = history_df.index.tz_localize(None)"
   ]
  },
  {
   "cell_type": "code",
   "execution_count": 15,
   "metadata": {},
   "outputs": [
    {
     "name": "stdout",
     "output_type": "stream",
     "text": [
      "Report's date: 27-09-2024\n"
     ]
    }
   ],
   "source": [
    "print(f\"Report's date: {history_df.index[-1].strftime(\"%d-%m-%Y\")}\")"
   ]
  },
  {
   "cell_type": "code",
   "execution_count": 16,
   "metadata": {},
   "outputs": [
    {
     "data": {
      "application/vnd.jupyter.widget-view+json": {
       "model_id": "590c031cd1ac43a5b8bccb8091d9f043",
       "version_major": 2,
       "version_minor": 0
      },
      "text/plain": [
       "interactive(children=(Select(description='by', options=('All', 'Overall', 'Type', 'Account', 'Industry'), valu…"
      ]
     },
     "metadata": {},
     "output_type": "display_data"
    }
   ],
   "source": [
    "tk.index_table(index=index_df, history=history_df,).show()"
   ]
  },
  {
   "cell_type": "code",
   "execution_count": 17,
   "metadata": {},
   "outputs": [
    {
     "data": {
      "application/vnd.jupyter.widget-view+json": {
       "model_id": "59c80e9c464747d7b5efe20c551c3b18",
       "version_major": 2,
       "version_minor": 0
      },
      "text/plain": [
       "interactive(children=(Select(description='freq', index=1, options=('D', 'B', 'W', 'M'), value='B'), Select(des…"
      ]
     },
     "metadata": {},
     "output_type": "display_data"
    }
   ],
   "source": [
    "tk.stats_table(index=index_df, history=history_df, market=market_df, riskfree=riskfree).show()"
   ]
  },
  {
   "cell_type": "code",
   "execution_count": 18,
   "metadata": {},
   "outputs": [
    {
     "data": {
      "application/vnd.jupyter.widget-view+json": {
       "model_id": "d8e95276004c4607a060d6765b573227",
       "version_major": 2,
       "version_minor": 0
      },
      "text/plain": [
       "interactive(children=(Select(description='freq', index=1, options=('D', 'B', 'W', 'M'), value='B'), Select(des…"
      ]
     },
     "metadata": {},
     "output_type": "display_data"
    }
   ],
   "source": [
    "tk.risk_chart(index=index_df, history=history_df, market=market_df).show()"
   ]
  },
  {
   "cell_type": "code",
   "execution_count": 19,
   "metadata": {},
   "outputs": [
    {
     "data": {
      "application/vnd.jupyter.widget-view+json": {
       "model_id": "713c94dfe3164b96872907f4ff0e74d0",
       "version_major": 2,
       "version_minor": 0
      },
      "text/plain": [
       "interactive(children=(Select(description='freq', index=1, options=('D', 'B', 'W', 'M'), value='B'), Select(des…"
      ]
     },
     "metadata": {},
     "output_type": "display_data"
    }
   ],
   "source": [
    "tk.chart_comparison(history=history_df, index=index_df, market=market_df).show()"
   ]
  },
  {
   "cell_type": "code",
   "execution_count": 20,
   "metadata": {},
   "outputs": [
    {
     "data": {
      "application/vnd.jupyter.widget-view+json": {
       "model_id": "f80c8771d7734879bfa318dc197c0f5d",
       "version_major": 2,
       "version_minor": 0
      },
      "text/plain": [
       "interactive(children=(Select(description='freq', index=1, options=('D', 'B', 'W', 'M'), value='B'), Select(des…"
      ]
     },
     "metadata": {},
     "output_type": "display_data"
    }
   ],
   "source": [
    "tk.corr_table(index=index_df, history=history_df, market=market_df).show()"
   ]
  },
  {
   "cell_type": "code",
   "execution_count": null,
   "metadata": {},
   "outputs": [],
   "source": []
  }
 ],
 "metadata": {
  "kernelspec": {
   "display_name": "Python 3",
   "language": "python",
   "name": "python3"
  },
  "language_info": {
   "codemirror_mode": {
    "name": "ipython",
    "version": 3
   },
   "file_extension": ".py",
   "mimetype": "text/x-python",
   "name": "python",
   "nbconvert_exporter": "python",
   "pygments_lexer": "ipython3",
   "version": "3.12.3"
  }
 },
 "nbformat": 4,
 "nbformat_minor": 2
}
