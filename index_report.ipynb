{
 "cells": [
  {
   "cell_type": "code",
   "execution_count": 6,
   "metadata": {},
   "outputs": [
    {
     "data": {
      "text/html": [
       "<style>\n",
       ".cell-output-ipywidget-background {\n",
       "    background-color: transparent !important;\n",
       "}\n",
       ":root {\n",
       "    --jp-widgets-color: var(--vscode-editor-foreground);\n",
       "    --jp-widgets-font-size: var(--vscode-editor-font-size);\n",
       "}  \n",
       "</style>\n"
      ],
      "text/plain": [
       "<IPython.core.display.HTML object>"
      ]
     },
     "metadata": {},
     "output_type": "display_data"
    }
   ],
   "source": [
    "%%html\n",
    "<style>\n",
    ".cell-output-ipywidget-background {\n",
    "    background-color: transparent !important;\n",
    "}\n",
    ":root {\n",
    "    --jp-widgets-color: var(--vscode-editor-foreground);\n",
    "    --jp-widgets-font-size: var(--vscode-editor-font-size);\n",
    "}  \n",
    "</style>"
   ]
  },
  {
   "cell_type": "code",
   "execution_count": 4,
   "metadata": {},
   "outputs": [
    {
     "name": "stdout",
     "output_type": "stream",
     "text": [
      "The autoreload extension is already loaded. To reload it, use:\n",
      "  %reload_ext autoreload\n"
     ]
    }
   ],
   "source": [
    "# Libraries\n",
    "%load_ext autoreload\n",
    "%autoreload 2\n",
    "import index_toolkit as tk\n",
    "import pandas as pd\n",
    "import yfinance as yf"
   ]
  },
  {
   "cell_type": "code",
   "execution_count": 5,
   "metadata": {},
   "outputs": [],
   "source": [
    "# Inputs\n",
    "date_input = '13/09/2024'\n",
    "df_market_input = '^FCHI'\n",
    "riskfree_input = '^TNX'\n",
    "df_allocation = pd.read_csv('index_allocation.csv', index_col = 'Ticker')"
   ]
  },
  {
   "cell_type": "code",
   "execution_count": 6,
   "metadata": {},
   "outputs": [],
   "source": [
    "# Fetching df_market data and risk-free rate\n",
    "df_market = yf.Ticker(df_market_input).history('max')['Close']\n",
    "df_market.name = df_market_input\n",
    "df_market.index = df_market.index.tz_localize(None)\n",
    "riskfree = yf.Ticker(riskfree_input).history('1y')['Close'].iloc[-1] / 100\n",
    "\n",
    "# Fetching and reating a DataFrame to store historical prices for each asset\n",
    "df_history = pd.DataFrame()\n",
    "for ticker in df_allocation.index:\n",
    "    history = yf.Ticker(ticker).history('max')['Close']\n",
    "    history.name = ticker\n",
    "    df_history = pd.concat([df_history, history], axis=1)\n",
    "df_history.index = pd.to_datetime(df_history.index)\n",
    "df_history = df_history.resample('B').last().ffill()\n",
    "df_history.index = df_history.index.tz_localize(None)"
   ]
  },
  {
   "cell_type": "code",
   "execution_count": null,
   "metadata": {},
   "outputs": [],
   "source": [
    "index_history = pd.read_csv('index_history.csv', index_col = 'Ticker')\n",
    "index_history.Date = pd.to_datetime(index_history.Date)\n",
    "\n",
    "# Updating portfolio history if it's a new day\n",
    "if date_input not in index_history['Date'].to_list():\n",
    "    index_history = pd.concat([index_history, dated_index])\n",
    "    index_history = index_history.sort_values('Date')\n",
    "    index_history.to_csv('portfolio_history.csv')\n",
    "elif date_input not in index_history.Date.to_list():\n",
    "    index_history = index_history.reset_index().set_index('Date').drop(index = today)\n",
    "    index_history = index_history.reset_index().set_index('Ticker')\n",
    "    index_history = pd.concat([index_history, dated_index])\n",
    "    index_history = index_history.sort_values('Date')\n",
    "    index_history.to_csv('portfolio_history.csv')"
   ]
  },
  {
   "cell_type": "code",
   "execution_count": 13,
   "metadata": {},
   "outputs": [
    {
     "name": "stdout",
     "output_type": "stream",
     "text": [
      "               Price   Share  Valorisation Allocation   Type  Account\n",
      "Ticker                                                               \n",
      "ACA.PA          14.2   815.0    11,601.5     27.36%    STOCKS    PEE \n",
      "WPEA.PA          5.2 1,750.0     9,135.5     21.54%       ETF    PEA \n",
      "UST.PA          71.1    60.0     4,264.1     10.06%       ETF    CTO \n",
      "AEME.PA         64.2    35.0     2,248.2      5.30%       ETF    CTO \n",
      "MC.PA          608.1     4.0     2,432.4      5.74%    STOCKS    PEA \n",
      "SAN.PA         103.4    15.0     1,551.0      3.66%    STOCKS    PEA \n",
      "STLAP.PA        13.6   100.0     1,361.0      3.21%    STOCKS    PEA \n",
      "AIR.PA         130.5    10.0     1,305.0      3.08%    STOCKS    PEA \n",
      "TTE.PA          61.1    20.0     1,221.4      2.88%    STOCKS    PEA \n",
      "DG.PA          109.5    10.0     1,095.0      2.58%    STOCKS    PEA \n",
      "AI.PA          170.2    10.0     1,702.2      4.01%    STOCKS    PEA \n",
      "SU.PA          227.2     5.0     1,136.0      2.68%    STOCKS    PEA \n",
      "0P00018AOF.F   183.6    15.5     2,845.3      6.71%       ETF    PEE \n",
      "0P00008W4R.F 1,269.7     0.4       507.9      1.20%       ETF    PEE \n"
     ]
    }
   ],
   "source": [
    "get_df_index = tk.index_table(\n",
    "    history=df_history,\n",
    "    allocation=df_allocation,\n",
    "    date=date_input\n",
    ")\n",
    "\n",
    "df_index = get_df_index.compute()\n",
    "\n",
    "get_df_index.show()"
   ]
  },
  {
   "cell_type": "code",
   "execution_count": 10,
   "metadata": {},
   "outputs": [
    {
     "name": "stdout",
     "output_type": "stream",
     "text": [
      "               Price   Share  Valorisation Allocation   Type  Account\n",
      "Ticker                                                               \n",
      "ACA.PA          14.2   815.0    11,601.5     27.36%    STOCKS    PEE \n",
      "WPEA.PA          5.2 1,750.0     9,135.5     21.54%       ETF    PEA \n",
      "UST.PA          71.1    60.0     4,264.1     10.06%       ETF    CTO \n",
      "AEME.PA         64.2    35.0     2,248.2      5.30%       ETF    CTO \n",
      "MC.PA          608.1     4.0     2,432.4      5.74%    STOCKS    PEA \n",
      "SAN.PA         103.4    15.0     1,551.0      3.66%    STOCKS    PEA \n",
      "STLAP.PA        13.6   100.0     1,361.0      3.21%    STOCKS    PEA \n",
      "AIR.PA         130.5    10.0     1,305.0      3.08%    STOCKS    PEA \n",
      "TTE.PA          61.1    20.0     1,221.4      2.88%    STOCKS    PEA \n",
      "DG.PA          109.5    10.0     1,095.0      2.58%    STOCKS    PEA \n",
      "AI.PA          170.2    10.0     1,702.2      4.01%    STOCKS    PEA \n",
      "SU.PA          227.2     5.0     1,136.0      2.68%    STOCKS    PEA \n",
      "0P00018AOF.F   183.6    15.5     2,845.3      6.71%       ETF    PEE \n",
      "0P00008W4R.F 1,269.7     0.4       507.9      1.20%       ETF    PEE \n"
     ]
    }
   ],
   "source": [
    "df_index = tk.index_table(df_allocation, df_history, date_input)\n",
    "\n",
    "df_display = df_index.copy()\n",
    "df_display = df_index.drop(columns=['Date'])\n",
    "df_display['Allocation'] = df_display['Allocation'].apply(lambda x: f\"{x * 100:.2f}%\")\n",
    "\n",
    "with pd.option_context(\n",
    "    'display.max_rows', None,\n",
    "    'display.max_columns', None,\n",
    "    'display.float_format', '{:,.1f}'.format,\n",
    "    'display.max_colwidth', None,\n",
    "    'display.colheader_justify', 'center'\n",
    "):\n",
    "    print(df_display)"
   ]
  },
  {
   "cell_type": "code",
   "execution_count": 11,
   "metadata": {},
   "outputs": [
    {
     "data": {
      "application/vnd.jupyter.widget-view+json": {
       "model_id": "2a38e6679c334e19a29b8ad13369ec35",
       "version_major": 2,
       "version_minor": 0
      },
      "text/plain": [
       "interactive(children=(Select(description='freq', options=('D', 'B', 'W', 'M'), value='D'), Select(description=…"
      ]
     },
     "metadata": {},
     "output_type": "display_data"
    }
   ],
   "source": [
    "# Statistiques du portefeuille par positions\n",
    "tk.stats_table(\n",
    "    history=df_history, \n",
    "    market=df_market, \n",
    "    riskfree=riskfree, \n",
    "    allocation=df_index.Allocation, \n",
    "    date=date_input\n",
    ").show()"
   ]
  },
  {
   "cell_type": "code",
   "execution_count": 12,
   "metadata": {},
   "outputs": [
    {
     "data": {
      "application/vnd.jupyter.widget-view+json": {
       "model_id": "8f843abcdabb4250aafcccfa35a1087f",
       "version_major": 2,
       "version_minor": 0
      },
      "text/plain": [
       "interactive(children=(Select(description='freq', options=('D', 'B', 'W', 'M'), value='D'), Select(description=…"
      ]
     },
     "metadata": {},
     "output_type": "display_data"
    }
   ],
   "source": [
    "tk.chart_comparison(\n",
    "    history=df_history, \n",
    "    date=date_input\n",
    ").show()"
   ]
  },
  {
   "cell_type": "code",
   "execution_count": 13,
   "metadata": {},
   "outputs": [
    {
     "data": {
      "application/vnd.jupyter.widget-view+json": {
       "model_id": "63059e7e595d434ab496bcefd9e8f213",
       "version_major": 2,
       "version_minor": 0
      },
      "text/plain": [
       "interactive(children=(Select(description='range', options=('1W', '1M', 'YTD', '1Y', '5Y', '10Y'), value='1W'),…"
      ]
     },
     "metadata": {},
     "output_type": "display_data"
    }
   ],
   "source": [
    "tk.top_n_flop(\n",
    "    history=df_history, \n",
    "    date=date_input\n",
    ").show()"
   ]
  },
  {
   "cell_type": "code",
   "execution_count": null,
   "metadata": {},
   "outputs": [],
   "source": []
  }
 ],
 "metadata": {
  "kernelspec": {
   "display_name": "Python 3",
   "language": "python",
   "name": "python3"
  },
  "language_info": {
   "codemirror_mode": {
    "name": "ipython",
    "version": 3
   },
   "file_extension": ".py",
   "mimetype": "text/x-python",
   "name": "python",
   "nbconvert_exporter": "python",
   "pygments_lexer": "ipython3",
   "version": "3.12.3"
  }
 },
 "nbformat": 4,
 "nbformat_minor": 2
}
